{
 "cells": [
  {
   "cell_type": "markdown",
   "id": "f23cf066",
   "metadata": {},
   "source": [
    "**kill half world**"
   ]
  },
  {
   "cell_type": "code",
   "execution_count": null,
   "id": "cc629afc",
   "metadata": {},
   "outputs": [],
   "source": [
    "import string\n",
    "import os\n",
    "import time\n",
    "import random\n",
    "import shutil\n",
    "import fnmatch\n",
    "path = 'E:\\\\project\\\\universe'\n",
    "list_of_univers = os.listdir(path)\n",
    "after_killing =random.sample(list_of_univers ,int(len(list_of_univers )/2+2))\n",
    "def kill(m):\n",
    "    for x in m : \n",
    "        if x.endswith('png') == True:\n",
    "            time.sleep(.5)\n",
    "            print(x,' is killled ')\n",
    "            os.remove(x)\n",
    "    return 'done'        \n",
    "\n"
   ]
  },
  {
   "cell_type": "markdown",
   "id": "01a9ad1b",
   "metadata": {},
   "source": [
    "kill(list_of_univers)"
   ]
  },
  {
   "cell_type": "markdown",
   "id": "047c3776",
   "metadata": {},
   "source": [
    "**copy to  new fill**\n"
   ]
  },
  {
   "cell_type": "code",
   "execution_count": null,
   "id": "0a2c919b",
   "metadata": {},
   "outputs": [],
   "source": [
    "src = 'E:\\\\project\\\\backup'\n",
    "des = 'E:\\\\project\\\\new fill '\n",
    "shutil.copytree(src,des) "
   ]
  },
  {
   "cell_type": "markdown",
   "id": "f5f7d73a",
   "metadata": {},
   "source": [
    "**Rename in new fill**"
   ]
  },
  {
   "cell_type": "code",
   "execution_count": 37,
   "id": "cc370456",
   "metadata": {},
   "outputs": [],
   "source": [
    "path = 'E:\\\\project\\\\new fill'\n",
    "list_of_univers = os.listdir(path)\n",
    "mm = ['c','b','n','s','mo','sa','wd']\n",
    "nn = ['u','w','s','mo','s','f','sa','wd']\n",
    "pp = []\n",
    "path_to= 'E:\\\\project\\\\universe'\n",
    "for f in mm: \n",
    "    for h in nn : \n",
    "        m = f+h+'.png' \n",
    "        pp.append(m)"
   ]
  },
  {
   "cell_type": "code",
   "execution_count": null,
   "id": "355da4b6",
   "metadata": {},
   "outputs": [],
   "source": []
  },
  {
   "cell_type": "code",
   "execution_count": null,
   "id": "9e994196",
   "metadata": {},
   "outputs": [],
   "source": []
  },
  {
   "cell_type": "code",
   "execution_count": null,
   "id": "dba4a62c",
   "metadata": {},
   "outputs": [],
   "source": []
  }
 ],
 "metadata": {
  "kernelspec": {
   "display_name": "Python 3",
   "language": "python",
   "name": "python3"
  },
  "language_info": {
   "codemirror_mode": {
    "name": "ipython",
    "version": 3
   },
   "file_extension": ".py",
   "mimetype": "text/x-python",
   "name": "python",
   "nbconvert_exporter": "python",
   "pygments_lexer": "ipython3",
   "version": "3.8.8"
  }
 },
 "nbformat": 4,
 "nbformat_minor": 5
}
